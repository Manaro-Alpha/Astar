{
 "cells": [
  {
   "cell_type": "code",
   "execution_count": 8,
   "source": [
    "import numpy as np\n",
    "import matplotlib.pyplot as plt\n",
    "import math"
   ],
   "outputs": [],
   "metadata": {}
  },
  {
   "cell_type": "code",
   "execution_count": 9,
   "source": [
    "#Bounds = np.array([10,10])\n",
    "Neighbours = [[0,1],[1,0],[0,-],[-1,0],[1,1],[-1,1],[-1,-1],[1,-1]]\n",
    "#Obstacles = [[1,4],[2,5]]"
   ],
   "outputs": [],
   "metadata": {}
  },
  {
   "cell_type": "code",
   "execution_count": 10,
   "source": [
    "class Node():\n",
    "    def __init__(self, x, y):\n",
    "        self.node = np.array([x,y])\n",
    "\n",
    "        self.g = np.inf\n",
    "        self.h = np.inf\n",
    "        self.f = self.g + self.h\n",
    "        self.obs = False\n",
    "\n",
    "        #self.adjacent_nodes = []\n",
    "\n",
    "        self.parent = None\n",
    "\n",
    "    def __eq__(self,object):\n",
    "        return self.node[0] == object.node[0] and self.node[1] == object.node[1]\n",
    "\n",
    "    def add_adjacent_nodes(self):\n",
    "        self.adjacent_nodes = []\n",
    "        for tf in Neighbours:\n",
    "            self.adjacent_nodes.append(Node(self.node[0] + tf[0],self.node[1] + tf[1]))"
   ],
   "outputs": [],
   "metadata": {}
  },
  {
   "cell_type": "code",
   "execution_count": 11,
   "source": [
    "Obstacles = [Node(1,4),Node(2,5),Node(2,6),Node(2,7)]\n",
    "for o in Obstacles:\n",
    "    o.obs = True"
   ],
   "outputs": [],
   "metadata": {}
  },
  {
   "cell_type": "code",
   "execution_count": 12,
   "source": [
    "A.g = 1\n",
    "A.h = 5\n",
    "print(A.f)"
   ],
   "outputs": [
    {
     "output_type": "error",
     "ename": "NameError",
     "evalue": "name 'A' is not defined",
     "traceback": [
      "\u001b[0;31m---------------------------------------------------------------------------\u001b[0m",
      "\u001b[0;31mNameError\u001b[0m                                 Traceback (most recent call last)",
      "\u001b[0;32m/var/folders/2g/0v98jg6s6xjbf2ggyqykhfjc0000gn/T/ipykernel_43385/2854434865.py\u001b[0m in \u001b[0;36m<module>\u001b[0;34m\u001b[0m\n\u001b[0;32m----> 1\u001b[0;31m \u001b[0mA\u001b[0m\u001b[0;34m.\u001b[0m\u001b[0mg\u001b[0m \u001b[0;34m=\u001b[0m \u001b[0;36m1\u001b[0m\u001b[0;34m\u001b[0m\u001b[0;34m\u001b[0m\u001b[0m\n\u001b[0m\u001b[1;32m      2\u001b[0m \u001b[0mA\u001b[0m\u001b[0;34m.\u001b[0m\u001b[0mh\u001b[0m \u001b[0;34m=\u001b[0m \u001b[0;36m5\u001b[0m\u001b[0;34m\u001b[0m\u001b[0;34m\u001b[0m\u001b[0m\n\u001b[1;32m      3\u001b[0m \u001b[0mprint\u001b[0m\u001b[0;34m(\u001b[0m\u001b[0mA\u001b[0m\u001b[0;34m.\u001b[0m\u001b[0mf\u001b[0m\u001b[0;34m)\u001b[0m\u001b[0;34m\u001b[0m\u001b[0;34m\u001b[0m\u001b[0m\n",
      "\u001b[0;31mNameError\u001b[0m: name 'A' is not defined"
     ]
    }
   ],
   "metadata": {}
  },
  {
   "cell_type": "code",
   "execution_count": 13,
   "source": [
    "Node(2,6).obs = True"
   ],
   "outputs": [],
   "metadata": {}
  },
  {
   "cell_type": "code",
   "execution_count": 14,
   "source": [
    "Node(2,6).obs"
   ],
   "outputs": [
    {
     "output_type": "execute_result",
     "data": {
      "text/plain": [
       "False"
      ]
     },
     "metadata": {},
     "execution_count": 14
    }
   ],
   "metadata": {}
  },
  {
   "cell_type": "code",
   "execution_count": null,
   "source": [
    "A.node.shape"
   ],
   "outputs": [],
   "metadata": {}
  },
  {
   "cell_type": "code",
   "execution_count": null,
   "source": [
    "\"\"\"class A_star:\n",
    "    def __init__(self,start,goal):\n",
    "        self.start = Node(start[0],start[1])\n",
    "        self.goal = Node(goal[0],goal[1])\n",
    "        \n",
    "        \n",
    "    def heuristic(self,node1:Node,node2:Node):\n",
    "        X = node1.x - node2.x\n",
    "        Y = node1.y - node2.y\n",
    "        return abs(X) + abs(Y)\n",
    "\n",
    "    def cost(self,node1:Node,node2:Node):\n",
    "        X = node1.x - node2.x\n",
    "        Y = node1.y - node2.y\n",
    "        return np.sqrt(X**2 + Y**2)\n",
    "    \n",
    "    def search(self):\n",
    "        self.open_list = []\n",
    "        self.closed_list = []\n",
    "        self.start.g = 0\n",
    "        self.start.h = self.heuristic(self.start,self.goal)\n",
    "        #self.f = self.g + self.h\n",
    "        self.open_list.append(self.start)\n",
    "        while len(open_list) != 0:\n",
    "            current = sorted(self.open_list,key=lambda node:node.f)[0]\n",
    "            if current == self.goal:\n",
    "                print(\"Goal Reached!\")\n",
    "            \n",
    "            self.open_list.remove(current)\n",
    "            self.closed_list.append(current)\n",
    "            Node.add_adjacent_nodes(current)\n",
    "\n",
    "            for child in current.adjacent_nodes():\n",
    "                if child.g > current.g + self.cost(current, child):\n",
    "                    child.g = current.g + self.cost(current,child)\n",
    "                \n",
    "                child.h = self.heuristic(child, goal)\n",
    "                child.f = child.g + child.h\n",
    "                child.parent = current\n",
    "\n",
    "                if child not in self.open_list():\n",
    "                    self.open_list.append(child)\n",
    "\"\"\""
   ],
   "outputs": [],
   "metadata": {}
  },
  {
   "cell_type": "code",
   "execution_count": 18,
   "source": [
    "class Astar():\n",
    "    def __init__(self, start_node, goal_node):\n",
    "        self.start_node = Node(start_node[0], start_node[1])\n",
    "        self.goal_node = Node(goal_node[0],goal_node[1])\n",
    "\n",
    "    def heuristic(self,node_1:Node,goal_node:Node):\n",
    "        X = node_1.node[0] - goal_node.node[0]\n",
    "        Y = node_1.node[1] - goal_node.node[1]\n",
    "        return abs(X) + abs(Y)\n",
    "\n",
    "    def cost(self,node_1:Node,node_2:Node):\n",
    "        X = node_1.node[0] - node_2.node[0]\n",
    "        Y = node_1.node[1] - node_2.node[1]\n",
    "        return np.sqrt(X**2 + Y**2)\n",
    "\n",
    "    def trace_path(self,node:Node):\n",
    "        self.path = []\n",
    "        self.path.append(node)\n",
    "        while node.parent is not None:\n",
    "            node = node.parent\n",
    "            self.path.append(node)\n",
    "\n",
    "        print(self.path)\n",
    "\n",
    "    def search(self):\n",
    "        self.open_list = []\n",
    "        self.closed_list = []\n",
    "        \n",
    "        self.start_node.g = 0\n",
    "        self.start_node.h = self.heuristic(self.start_node, self.goal_node)\n",
    "        self.start_node.f = self.start_node.g + self.start_node.h\n",
    "\n",
    "        self.open_list.append(self.start_node)\n",
    "\n",
    "        while len(self.open_list) > 0:\n",
    "            #current_node = sorted(self.open_list, key=lambda node:node.f)[0]\n",
    "            self.open_list.sort(key=lambda node:node.f)\n",
    "            current_node = self.open_list[0]\n",
    "            #if current_node == self.goal_node:\n",
    "                #print(\"goal reached!\")\n",
    "                #break\n",
    "            #self.open_list.remove(current_node)\n",
    "            self.closed_list.append(current_node)\n",
    "            self.open_list.remove(current_node)\n",
    "            if current_node.node[0] == self.goal_node.node[0] and current_node.node[1] == self.goal_node.node[1]:\n",
    "                print(\"goal reached!\")\n",
    "                self.trace_path(current_node)\n",
    "                break\n",
    "            current_node.add_adjacent_nodes()\n",
    "            for child in current_node.adjacent_nodes:\n",
    "                if child not in Obstacles:\n",
    "                    if child.g > current_node.g + self.cost(current_node, child):\n",
    "                        child.g = current_node.g + self.cost(current_node, child)\n",
    "                \n",
    "                    child.h = self.heuristic(current_node, self.goal_node)\n",
    "                    child.f = child.g + child.h\n",
    "                    child.parent = current_node\n",
    "                    if child not in self.open_list:\n",
    "                        self.open_list.append(child)\n",
    "\n",
    "            #self.open_list.append(current_node.adjacent_nodes)"
   ],
   "outputs": [],
   "metadata": {}
  },
  {
   "cell_type": "code",
   "execution_count": 21,
   "source": [
    "shortest_path = Astar([0,0],[11,9])\n",
    "shortest_path.search()\n"
   ],
   "outputs": [
    {
     "output_type": "stream",
     "name": "stdout",
     "text": [
      "goal reached!\n",
      "[<__main__.Node object at 0x7fec0fff3910>, <__main__.Node object at 0x7fec11636850>, <__main__.Node object at 0x7fec11636310>, <__main__.Node object at 0x7fec11636790>, <__main__.Node object at 0x7fec121f5640>, <__main__.Node object at 0x7fec121f57c0>, <__main__.Node object at 0x7fec1220a760>, <__main__.Node object at 0x7fec12211520>, <__main__.Node object at 0x7fec12263130>, <__main__.Node object at 0x7fec1225af70>, <__main__.Node object at 0x7fec121fda60>, <__main__.Node object at 0x7fec121fd5e0>]\n"
     ]
    }
   ],
   "metadata": {}
  },
  {
   "cell_type": "code",
   "execution_count": null,
   "source": [
    "for i in range(len(shortest_path.open_list)):\n",
    "    print(shortest_path.open_list[i].node,shortest_path.open_list[i].f)"
   ],
   "outputs": [],
   "metadata": {}
  },
  {
   "cell_type": "code",
   "execution_count": 22,
   "source": [
    "for i in range(len(shortest_path.path)):\n",
    "    print(shortest_path.path[i].node)\n",
    "    #plt.show(shortest_path.path[i].node)"
   ],
   "outputs": [
    {
     "output_type": "stream",
     "name": "stdout",
     "text": [
      "[11  9]\n",
      "[10  8]\n",
      "[9 8]\n",
      "[8 8]\n",
      "[7 7]\n",
      "[6 6]\n",
      "[5 5]\n",
      "[4 4]\n",
      "[3 3]\n",
      "[2 2]\n",
      "[1 1]\n",
      "[0 0]\n"
     ]
    }
   ],
   "metadata": {}
  }
 ],
 "metadata": {
  "orig_nbformat": 4,
  "language_info": {
   "name": "python",
   "version": "3.9.6",
   "mimetype": "text/x-python",
   "codemirror_mode": {
    "name": "ipython",
    "version": 3
   },
   "pygments_lexer": "ipython3",
   "nbconvert_exporter": "python",
   "file_extension": ".py"
  },
  "kernelspec": {
   "name": "python3",
   "display_name": "Python 3.9.6 64-bit"
  },
  "interpreter": {
   "hash": "4cd7ab41f5fca4b9b44701077e38c5ffd31fe66a6cab21e0214b68d958d0e462"
  }
 },
 "nbformat": 4,
 "nbformat_minor": 2
}